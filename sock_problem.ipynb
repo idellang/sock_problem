{
 "cells": [
  {
   "attachments": {},
   "cell_type": "markdown",
   "metadata": {},
   "source": [
    "# Steps\n",
    "- Count clean and dirty socks\n",
    "- Separate clean socks without pairs\n",
    "- From the dirty socks, find pairs from the extra clean socks and wash them\n",
    "- If there are still washes available, wash the remaining dirty socks"
   ]
  },
  {
   "cell_type": "code",
   "execution_count": 1,
   "metadata": {},
   "outputs": [],
   "source": [
    "K= 6\n",
    "C = [1, 2, 1 ,1]\n",
    "D = [1, 4, 3, 2, 4, 4, 4, 2,]"
   ]
  },
  {
   "cell_type": "code",
   "execution_count": 2,
   "metadata": {},
   "outputs": [
    {
     "data": {
      "text/plain": [
       "(Counter({1: 3, 2: 1}), Counter({1: 1, 4: 4, 3: 1, 2: 2}), [], 6)"
      ]
     },
     "execution_count": 2,
     "metadata": {},
     "output_type": "execute_result"
    }
   ],
   "source": [
    "from collections import Counter \n",
    "\n",
    "clean_socks = Counter(C)\n",
    "dirty_socks = Counter(D)\n",
    "clean_extra = []\n",
    "\n",
    "clean_socks, dirty_socks, clean_extra, K"
   ]
  },
  {
   "cell_type": "code",
   "execution_count": 3,
   "metadata": {},
   "outputs": [],
   "source": [
    "# find pairs in the clean socks and separate those without pairs\n",
    "\n",
    "for sock in clean_socks:\n",
    "    if clean_socks[sock] % 2 == 1:\n",
    "        # add to clean_extra\n",
    "        clean_extra.append(sock)\n",
    "        # remove from list of clean socks\n",
    "        clean_socks[sock] -= 1\n",
    "\n",
    "clean_extra = Counter(clean_extra)\n"
   ]
  },
  {
   "cell_type": "code",
   "execution_count": 4,
   "metadata": {},
   "outputs": [
    {
     "data": {
      "text/plain": [
       "(Counter({1: 2, 2: 0}),\n",
       " Counter({1: 1, 4: 4, 3: 1, 2: 2}),\n",
       " Counter({1: 1, 2: 1}),\n",
       " 6)"
      ]
     },
     "execution_count": 4,
     "metadata": {},
     "output_type": "execute_result"
    }
   ],
   "source": [
    "clean_socks, dirty_socks, clean_extra, K"
   ]
  },
  {
   "cell_type": "code",
   "execution_count": 5,
   "metadata": {},
   "outputs": [],
   "source": [
    "# find pairs for clean extra from dirty socks\n",
    "for sock in dirty_socks:\n",
    "    if K > 0 and sock in clean_extra:\n",
    "        # wash and add to clean extra\n",
    "        clean_extra[sock] += 1\n",
    "        dirty_socks[sock] -= 1\n",
    "        K -= 1"
   ]
  },
  {
   "cell_type": "code",
   "execution_count": 6,
   "metadata": {},
   "outputs": [
    {
     "data": {
      "text/plain": [
       "(Counter({1: 2, 2: 0}),\n",
       " Counter({1: 0, 4: 4, 3: 1, 2: 1}),\n",
       " 4,\n",
       " Counter({1: 2, 2: 2}))"
      ]
     },
     "execution_count": 6,
     "metadata": {},
     "output_type": "execute_result"
    }
   ],
   "source": [
    "clean_socks, dirty_socks, K, clean_extra"
   ]
  },
  {
   "cell_type": "code",
   "execution_count": 7,
   "metadata": {},
   "outputs": [],
   "source": [
    "# wash pair from remaining socks remaining socks\n",
    "\n",
    "number_of_washes = K//2\n",
    "washed_socks = []\n",
    "\n",
    "for sock in dirty_socks:\n",
    "    # get number of pairs\n",
    "    number_of_pairs = dirty_socks[sock] // 2\n",
    "    while number_of_pairs > 0 and number_of_washes > 0:\n",
    "        # add the sock with the pair\n",
    "        washed_socks.append(sock)\n",
    "        washed_socks.append(sock)\n",
    "        # remove from dirty socks\n",
    "        dirty_socks[sock] -= 2\n",
    "        K -= 2\n",
    "\n",
    "        # reduce number of washes and number of pairs\n",
    "        number_of_pairs -= 1\n",
    "        number_of_washes -= 1\n",
    "\n",
    "washed_socks = Counter(washed_socks)\n",
    "   \n",
    "        "
   ]
  },
  {
   "cell_type": "code",
   "execution_count": 8,
   "metadata": {},
   "outputs": [
    {
     "data": {
      "text/plain": [
       "(Counter({1: 2, 2: 0}),\n",
       " Counter({1: 0, 4: 0, 3: 1, 2: 1}),\n",
       " 0,\n",
       " Counter({1: 2, 2: 2}))"
      ]
     },
     "execution_count": 8,
     "metadata": {},
     "output_type": "execute_result"
    }
   ],
   "source": [
    "clean_socks, dirty_socks, K, clean_extra"
   ]
  },
  {
   "cell_type": "code",
   "execution_count": 9,
   "metadata": {},
   "outputs": [
    {
     "data": {
      "text/plain": [
       "(Counter({1: 2, 2: 0}),\n",
       " Counter({1: 0, 4: 0, 3: 1, 2: 1}),\n",
       " Counter({1: 2, 2: 2}),\n",
       " 0,\n",
       " Counter({4: 4}))"
      ]
     },
     "execution_count": 9,
     "metadata": {},
     "output_type": "execute_result"
    }
   ],
   "source": [
    "clean_socks, dirty_socks, clean_extra, K, washed_socks"
   ]
  },
  {
   "cell_type": "code",
   "execution_count": 10,
   "metadata": {},
   "outputs": [
    {
     "name": "stdout",
     "output_type": "stream",
     "text": [
      "5\n"
     ]
    }
   ],
   "source": [
    "## add\n",
    "\n",
    "clean_socks.update(clean_extra)\n",
    "clean_socks.update(washed_socks)\n",
    "\n",
    "total = sum(v for k,v in clean_socks.items()) // 2\n",
    "print(total)"
   ]
  },
  {
   "attachments": {},
   "cell_type": "markdown",
   "metadata": {},
   "source": [
    "### Create a function"
   ]
  },
  {
   "cell_type": "code",
   "execution_count": 11,
   "metadata": {},
   "outputs": [],
   "source": [
    "from collections import Counter\n",
    "def socks_problem_solution(C = None, D = None, K = None):\n",
    "    # count socks\n",
    "    clean_socks = Counter(C)\n",
    "    dirty_socks = Counter(D)\n",
    "    clean_extra = []\n",
    "\n",
    "    # find pairs in the clean socks and separate those without pairs\n",
    "\n",
    "    for sock in clean_socks:\n",
    "        if clean_socks[sock] % 2 == 1:\n",
    "            # add to clean_extra\n",
    "            clean_extra.append(sock)\n",
    "            # remove from list of clean socks\n",
    "            clean_socks[sock] -= 1\n",
    "\n",
    "    clean_extra = Counter(clean_extra)\n",
    "\n",
    "    # find pairs for clean extra from dirty socks\n",
    "    for sock in dirty_socks:\n",
    "        if K > 0 and sock in clean_extra:\n",
    "            # wash and add to clean extra\n",
    "            clean_extra[sock] += 1\n",
    "            dirty_socks[sock] -= 1\n",
    "            K -= 1\n",
    "\n",
    "\n",
    "    # wash pair from remaining socks remaining socks\n",
    "    number_of_washes = K//2\n",
    "    washed_socks = []\n",
    "\n",
    "    for sock in dirty_socks:\n",
    "        # get number of pairs\n",
    "        number_of_pairs = dirty_socks[sock] // 2\n",
    "        while number_of_pairs > 0 and number_of_washes > 0:\n",
    "            # add the sock with the pair\n",
    "            washed_socks.append(sock)\n",
    "            washed_socks.append(sock)\n",
    "            # remove from dirty socks\n",
    "            dirty_socks[sock] -= 2\n",
    "            K -= 2\n",
    "\n",
    "            # reduce number of washes and number of pairs\n",
    "            number_of_pairs -= 1\n",
    "            number_of_washes -= 1\n",
    "\n",
    "    washed_socks = Counter(washed_socks)\n",
    "\n",
    "\n",
    "    clean_socks.update(clean_extra)\n",
    "    clean_socks.update(washed_socks)\n",
    "\n",
    "    total_clean_pairs = sum(v for k,v in clean_socks.items()) // 2\n",
    "    return total_clean_pairs\n",
    "   \n",
    "        \n",
    "\n",
    "\n",
    "    "
   ]
  },
  {
   "cell_type": "code",
   "execution_count": 35,
   "metadata": {},
   "outputs": [
    {
     "data": {
      "text/plain": [
       "3"
      ]
     },
     "execution_count": 35,
     "metadata": {},
     "output_type": "execute_result"
    }
   ],
   "source": [
    "K= 10\n",
    "C = [1]\n",
    "D = [1, 2, 2, 3, 3, 3]\n",
    "\n",
    "socks_problem_solution(C, D, K)"
   ]
  },
  {
   "cell_type": "code",
   "execution_count": null,
   "metadata": {},
   "outputs": [],
   "source": []
  }
 ],
 "metadata": {
  "kernelspec": {
   "display_name": "Python 3",
   "language": "python",
   "name": "python3"
  },
  "language_info": {
   "codemirror_mode": {
    "name": "ipython",
    "version": 3
   },
   "file_extension": ".py",
   "mimetype": "text/x-python",
   "name": "python",
   "nbconvert_exporter": "python",
   "pygments_lexer": "ipython3",
   "version": "3.9.12"
  },
  "orig_nbformat": 4
 },
 "nbformat": 4,
 "nbformat_minor": 2
}
